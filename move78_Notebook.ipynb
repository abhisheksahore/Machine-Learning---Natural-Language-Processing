{
  "nbformat": 4,
  "nbformat_minor": 0,
  "metadata": {
    "colab": {
      "name": "move78.ipynb",
      "provenance": [],
      "collapsed_sections": [],
      "toc_visible": true,
      "machine_shape": "hm"
    },
    "kernelspec": {
      "name": "python3",
      "display_name": "Python 3"
    },
    "accelerator": "GPU"
  },
  "cells": [
    {
      "cell_type": "code",
      "metadata": {
        "id": "j7fGsC-bT7QR",
        "colab_type": "code",
        "colab": {}
      },
      "source": [
        "from google.colab import drive"
      ],
      "execution_count": 0,
      "outputs": []
    },
    {
      "cell_type": "code",
      "metadata": {
        "id": "JmRh-j-nXLgb",
        "colab_type": "code",
        "outputId": "2e9a7050-b0e0-4455-caeb-ea9797e311c2",
        "colab": {
          "base_uri": "https://localhost:8080/",
          "height": 120
        }
      },
      "source": [
        "drive.mount('/content/drive/')"
      ],
      "execution_count": 4,
      "outputs": [
        {
          "output_type": "stream",
          "text": [
            "Go to this URL in a browser: https://accounts.google.com/o/oauth2/auth?client_id=947318989803-6bn6qk8qdgf4n4g3pfee6491hc0brc4i.apps.googleusercontent.com&redirect_uri=urn%3aietf%3awg%3aoauth%3a2.0%3aoob&response_type=code&scope=email%20https%3a%2f%2fwww.googleapis.com%2fauth%2fdocs.test%20https%3a%2f%2fwww.googleapis.com%2fauth%2fdrive%20https%3a%2f%2fwww.googleapis.com%2fauth%2fdrive.photos.readonly%20https%3a%2f%2fwww.googleapis.com%2fauth%2fpeopleapi.readonly\n",
            "\n",
            "Enter your authorization code:\n",
            "··········\n",
            "Mounted at /content/drive/\n"
          ],
          "name": "stdout"
        }
      ]
    },
    {
      "cell_type": "markdown",
      "metadata": {
        "id": "ekejUY7v1l9_",
        "colab_type": "text"
      },
      "source": [
        "## Importing libraries"
      ]
    },
    {
      "cell_type": "code",
      "metadata": {
        "id": "d2o-i4CLXZL5",
        "colab_type": "code",
        "colab": {}
      },
      "source": [
        "import nltk\n",
        "import pandas\n",
        "import matplotlib as plt\n",
        "import numpy as np"
      ],
      "execution_count": 0,
      "outputs": []
    },
    {
      "cell_type": "markdown",
      "metadata": {
        "id": "V5Z7DUur1qaw",
        "colab_type": "text"
      },
      "source": [
        "## Loading dataset"
      ]
    },
    {
      "cell_type": "code",
      "metadata": {
        "id": "wIYbsgdpYXxh",
        "colab_type": "code",
        "colab": {}
      },
      "source": [
        "dataframe = pandas.read_csv(\"/content/drive/My Drive/Colab Notebooks/data-training.csv\")"
      ],
      "execution_count": 0,
      "outputs": []
    },
    {
      "cell_type": "code",
      "metadata": {
        "id": "acuWCAnTYhDt",
        "colab_type": "code",
        "outputId": "71f422bc-c8a2-4821-fd35-2ef4cada51fa",
        "colab": {
          "base_uri": "https://localhost:8080/",
          "height": 53
        }
      },
      "source": [
        "dataframe.sample(25)\n",
        "print(dataframe.iloc[73,0])"
      ],
      "execution_count": 7,
      "outputs": [
        {
          "output_type": "stream",
          "text": [
            "From : Sent : To : Prabhat Singh < Prabhat . Singh @ hcl . com > Tuesday , January 22 , 2019 6 : 59 AM ' Rakesh Kumar chaurasiya ' idetimesheets @ idctechnologies . com RE : Attendance, Emp id - A, Attendance . xlsx ; SUMMARY . XLSX Cc : Subject : Attachments : Approved Regards From : Rakesh Kumar chaurasiya ( mailto : rakesh . ec2014 @ gmail . com ) Sent : Monday , January To : prabhat . singh Cc : idctimesheets @ idctechnologies . com Subject : Attendance, Emp id - A, Dear Sir , Kindly request you please approve month time and summery sheet . Thanks and Regards , \n"
          ],
          "name": "stdout"
        }
      ]
    },
    {
      "cell_type": "code",
      "metadata": {
        "id": "OHQi-ctsYjXr",
        "colab_type": "code",
        "outputId": "66d64932-ccd0-49ad-be94-41648813f584",
        "colab": {
          "base_uri": "https://localhost:8080/",
          "height": 183
        }
      },
      "source": [
        "from collections import Counter\n",
        "Counter(dataframe['Label'])"
      ],
      "execution_count": 8,
      "outputs": [
        {
          "output_type": "execute_result",
          "data": {
            "text/plain": [
              "Counter({'ChallanDep': 46,\n",
              "         'Checklist': 50,\n",
              "         'DutySlip': 8,\n",
              "         'Email': 20,\n",
              "         'Epfslip': 10,\n",
              "         'Invoice': 121,\n",
              "         'Junk': 44,\n",
              "         'Purchase': 21,\n",
              "         'SGB': 10,\n",
              "         'Transdetails': 44})"
            ]
          },
          "metadata": {
            "tags": []
          },
          "execution_count": 8
        }
      ]
    },
    {
      "cell_type": "code",
      "metadata": {
        "id": "q0kLMGI-YnWT",
        "colab_type": "code",
        "colab": {}
      },
      "source": [
        "X = dataframe.iloc[:,0].values\n",
        "Y = dataframe.iloc[:,1].values\n",
        "\n"
      ],
      "execution_count": 0,
      "outputs": []
    },
    {
      "cell_type": "markdown",
      "metadata": {
        "id": "h3H7dO9a1KBg",
        "colab_type": "text"
      },
      "source": [
        "## Pre-Processing starts here\n"
      ]
    },
    {
      "cell_type": "code",
      "metadata": {
        "id": "P89o9FLUYrWb",
        "colab_type": "code",
        "colab": {}
      },
      "source": [
        "#pre-processing\n",
        "\n",
        "\n",
        "import re \n",
        "def cleaning(t):\n",
        "    t = re.sub(r\"\\n\", \"\", t)    \n",
        "    t = re.sub(r\"\\r\", \"\", t)  \n",
        "    t = re.sub(r\"[|{}()#!*+=<>]\", \"\", t)\n",
        "    return t.strip()\n",
        "X_ = []\n",
        "for i in range(0, len(X)):\n",
        "    X_.append(cleaning(X[i]))"
      ],
      "execution_count": 0,
      "outputs": []
    },
    {
      "cell_type": "markdown",
      "metadata": {
        "id": "DeG42tUY1RfP",
        "colab_type": "text"
      },
      "source": [
        "## Spliting data into train and test data\n"
      ]
    },
    {
      "cell_type": "code",
      "metadata": {
        "id": "ukIpI7S_Y0oX",
        "colab_type": "code",
        "outputId": "36434481-a91a-4544-ae72-29b83d2b40f1",
        "colab": {
          "base_uri": "https://localhost:8080/",
          "height": 53
        }
      },
      "source": [
        "from sklearn.model_selection import train_test_split\n",
        "X_train, X_test, Y_train, Y_test = train_test_split(X_, Y, test_size = .20, random_state = 42)\n",
        "\n",
        "X_train[18]\n"
      ],
      "execution_count": 11,
      "outputs": [
        {
          "output_type": "execute_result",
          "data": {
            "text/plain": [
              "'NAME 1  ?  3  4  5  6  7  8  9  10  11  12  13  14  15  16  17  18  19  20 21 22 23  24  25  26  27  28  29 30 D - 1 , SECTOR 1 SANDEEP SUNOAY SUNDAY SUNDAY SUNDAY SUNDAY MAHINDER KUMAR SUNDAY SUNDAY SUNDAY SUNDAY SUNDAY  SUNDAY - - - 3 RAGHUVIR SINGH SUNDAY SUNDAY SUNDAY тр  р  PPTP SUNDAY'"
            ]
          },
          "metadata": {
            "tags": []
          },
          "execution_count": 11
        }
      ]
    },
    {
      "cell_type": "code",
      "metadata": {
        "id": "Aprhy8mVY3OX",
        "colab_type": "code",
        "outputId": "ef7a2b51-595a-4443-ba59-7cd1caaa0bb6",
        "colab": {
          "base_uri": "https://localhost:8080/",
          "height": 450
        }
      },
      "source": [
        "X_train = pandas.Series(X_train)\n",
        "X_test = pandas.Series(X_test)\n",
        "\n",
        "X_train.sample(25)\n"
      ],
      "execution_count": 12,
      "outputs": [
        {
          "output_type": "execute_result",
          "data": {
            "text/plain": [
              "269    Invoice Number INVOICE DATE PAYMENT TERMS AGRE...\n",
              "9      Date of Issue : Account Manager : SAP Ref . No...\n",
              "91     Checklist - Overheads Bill Process Region : Ve...\n",
              "75     INVOICE GSTIN . : SAC NO . : PAN NO . : STATE ...\n",
              "180    My Calculation 1097 . 25 1097 . 25 2150 . 08 1...\n",
              "274    Site Namo Location Location FORM II SEE RULE 2...\n",
              "227    Item Item Code Description Unit Price Total Pr...\n",
              "204    Checklist - Overheads Bill Process Region : Ve...\n",
              "0      Checklist - Overheads BiH Process PURCHASE OKL...\n",
              "296    TRRN No : Challan Status : Challan Generated O...\n",
              "28     Payment Confirmation Receipt TRRN NO : Challan...\n",
              "99     W40 , Raj Industrial Complex Premises Co - Op ...\n",
              "280    ATTENDENCE M / O JULY 2019 NAME SECTOR - 11 1 ...\n",
              "64     JEC Code VAT NO CST No PAN No Service Tax No C...\n",
              "147    Checklist - Overheads Bill Process Region : Ve...\n",
              "224    Unit Price Total Price Item Item Code Descript...\n",
              "175    Checklist - Overheads Bill Process Region : Ve...\n",
              "128                                  State Tax HSN / SAC\n",
              "1      From : Sent : To : Cc : Subject : Attachments ...\n",
              "292    Checklist - Overheads Bill Process . Region.Ve...\n",
              "247    Annexure Dated Ded Account Manager SAP Ref No ...\n",
              "98     Challan Double Verification ChallanDoubleVerif...\n",
              "183    SAP Ref No : PO Number : Project ID : Project ...\n",
              "6      Tax Invoice Invoice No . Invoice Date : Paymen...\n",
              "55     PURCHASE ORDER PO NO PO Date Version  1 Date P...\n",
              "dtype: object"
            ]
          },
          "metadata": {
            "tags": []
          },
          "execution_count": 12
        }
      ]
    },
    {
      "cell_type": "code",
      "metadata": {
        "id": "1iTSOu35p0qK",
        "colab_type": "code",
        "outputId": "cf26b8c7-b815-434d-d079-98b457ea99c2",
        "colab": {
          "base_uri": "https://localhost:8080/",
          "height": 70
        }
      },
      "source": [
        "print(X_train[82])\n",
        "print(Y_train[82])\n",
        "\n"
      ],
      "execution_count": 13,
      "outputs": [
        {
          "output_type": "stream",
          "text": [
            "GRN Department Type of Payment Location URN No . C HALLA Form - ID Date Dept - ID Dealers TIN BRN No . Full Name of the Dealer Period From То Account Head Detalls Code Amount in RS Remarks if any : Regular Payment Payment Details Name of Bank Name of Branch Mode of Pay Bank CIN No .\n",
            "ChallanDep\n"
          ],
          "name": "stdout"
        }
      ]
    },
    {
      "cell_type": "code",
      "metadata": {
        "id": "lcyAcOd0Y6y7",
        "colab_type": "code",
        "outputId": "29cb3a04-5496-4920-e921-8b1cbeb0093a",
        "colab": {
          "base_uri": "https://localhost:8080/",
          "height": 200
        }
      },
      "source": [
        "X_train = X_train.str.lower()\n",
        "X_train.sample(10)"
      ],
      "execution_count": 14,
      "outputs": [
        {
          "output_type": "execute_result",
          "data": {
            "text/plain": [
              "58     tax invoice invoice no . dated gstin / uin pan...\n",
              "106    duty slip 1 . customer name 2 . mobile no . co...\n",
              "133    purchase order po no po dale version  1 date p...\n",
              "51     checklist - overheads bih process región . 29 ...\n",
              "233    challan grn doportmont type of payment office ...\n",
              "197    invoice no : po number : project id : project ...\n",
              "238    hsn / sac cord bill no . date : . particulars ...\n",
              "53     e - payorder details e - payorder number debit...\n",
              "59     tax invoice invoice no . invoice date for the ...\n",
              "243    tax invoice reference : invoice no : date : po...\n",
              "dtype: object"
            ]
          },
          "metadata": {
            "tags": []
          },
          "execution_count": 14
        }
      ]
    },
    {
      "cell_type": "code",
      "metadata": {
        "id": "Cx0sAAHDZGAW",
        "colab_type": "code",
        "outputId": "7ab552c6-7f1a-4868-906a-680844778263",
        "colab": {
          "base_uri": "https://localhost:8080/",
          "height": 200
        }
      },
      "source": [
        "X_test = X_test.str.lower()\n",
        "X_test.sample(10)"
      ],
      "execution_count": 15,
      "outputs": [
        {
          "output_type": "execute_result",
          "data": {
            "text/plain": [
              "33    uptront pwrpy dench contribution rernitted wag...\n",
              "53    time of commence ment of work . : 0600 1 . nam...\n",
              "51    transaction details . transaction status : emp...\n",
              "1     employor ' s code no . : transaction details t...\n",
              "37    security guards bill - bill no . date : s.no p...\n",
              "31    checklist - overheads bill process vendor sap ...\n",
              "32    security guards bill bill no . particulars rat...\n",
              "12    challandouble verification transaction details...\n",
              "50    address : gstin / uin - / it no . - bill no . ...\n",
              "48    transaction details transaction status : emplo...\n",
              "dtype: object"
            ]
          },
          "metadata": {
            "tags": []
          },
          "execution_count": 15
        }
      ]
    },
    {
      "cell_type": "code",
      "metadata": {
        "id": "lEf6qqRr33DG",
        "colab_type": "code",
        "colab": {}
      },
      "source": [
        "X_ = [i.lower() for i in X_]\n"
      ],
      "execution_count": 0,
      "outputs": []
    },
    {
      "cell_type": "markdown",
      "metadata": {
        "id": "kCrAAWw61aHA",
        "colab_type": "text"
      },
      "source": [
        "## Importing some more libraries"
      ]
    },
    {
      "cell_type": "code",
      "metadata": {
        "id": "qRDgyMedZIhr",
        "colab_type": "code",
        "colab": {}
      },
      "source": [
        "from sklearn.pipeline import Pipeline\n",
        "from sklearn.multiclass import OneVsRestClassifier\n",
        "from sklearn.ensemble import RandomForestClassifier\n",
        "from sklearn.neighbors import KNeighborsClassifier\n",
        "from sklearn.naive_bayes import MultinomialNB\n",
        "from sklearn.feature_extraction.text import TfidfVectorizer, CountVectorizer, TfidfTransformer\n",
        "from sklearn.model_selection import GridSearchCV\n",
        "from nltk.tokenize import TreebankWordTokenizer"
      ],
      "execution_count": 0,
      "outputs": []
    },
    {
      "cell_type": "markdown",
      "metadata": {
        "id": "W_QQb63l1xc7",
        "colab_type": "text"
      },
      "source": [
        "## Creating Pipelines and vectorization"
      ]
    },
    {
      "cell_type": "code",
      "metadata": {
        "id": "j7wpOYw2ZNNI",
        "colab_type": "code",
        "colab": {}
      },
      "source": [
        "tokenizer = TreebankWordTokenizer()\n",
        "\n",
        "# Pipeline for Random Forest Classifier\n",
        "model1 = Pipeline([('count_vect', CountVectorizer(tokenizer = tokenizer.tokenize)),\n",
        "                 ('tfidf_trans', TfidfTransformer()),\n",
        "                 ('clf1', RandomForestClassifier())])\n",
        "\n",
        "# Pipeline for K Neighbors Classifier \n",
        "model2 = Pipeline([('count_vect', CountVectorizer(tokenizer = tokenizer.tokenize)),\n",
        "                 ('tfidf_trans', TfidfTransformer()),\n",
        "                 ('clf2', KNeighborsClassifier())])\n",
        "\n",
        "#Pipeline for MultinomialNB Classifier\n",
        "model3 = Pipeline([('count_vect', CountVectorizer(tokenizer = tokenizer.tokenize)),\n",
        "                 ('tfidf_trans', TfidfTransformer()),\n",
        "                 ('clf3', MultinomialNB())])\n",
        "\n"
      ],
      "execution_count": 0,
      "outputs": []
    },
    {
      "cell_type": "markdown",
      "metadata": {
        "id": "b5z_YB9S18BL",
        "colab_type": "text"
      },
      "source": [
        "## Giving hyperparameters for Hyperparameter tuning"
      ]
    },
    {
      "cell_type": "code",
      "metadata": {
        "id": "obm0il6WZQnq",
        "colab_type": "code",
        "colab": {}
      },
      "source": [
        "parameter1 = {# for countvectorizer\n",
        "              'count_vect__stop_words': ['english'],\n",
        "              'count_vect__ngram_range': [(1,1),(1,2),(2,2)],\n",
        "              'count_vect__max_df': [i for i in np.arange(0.4,0.6,0.05)],\n",
        "              'count_vect__min_df': [i for i in np.arange(2,25,5)],\n",
        "              # for tfidfTransformer\n",
        "              \"tfidf_trans__norm\": ['l1', 'l2', None],\n",
        "              'tfidf_trans__use_idf': [True, False],\n",
        "              # for clf1\n",
        "              'clf1__n_estimators': [100],\n",
        "              'clf1__criterion': ['gini', 'entropy'],\n",
        "              'clf1__max_depth': [None, 3, 5],\n",
        "              'clf1__n_jobs': [None]\n",
        "             }\n",
        "\n",
        "parameter2 = {# for countvectorizer\n",
        "              \"count_vect__stop_words\": ['english'],\n",
        "              \"count_vect__ngram_range\": [(1,1),(1,2),(2,2)],\n",
        "              \"count_vect__max_df\": [i for i in np.arange(0.4,0.6,0.05)],\n",
        "              \"count_vect__min_df\": [i for i in np.arange(2,25,5)],\n",
        "              # for tfidfTransformer\n",
        "              \"tfidf_trans__norm\": ['l1', 'l2', None],\n",
        "              \"tfidf_trans__use_idf\": [True, False],\n",
        "              # for clf2\n",
        "              \"clf2__n_neighbors\": [i for i in np.arange(3,10)]\n",
        "              }\n",
        "\n",
        "parameter3 = {# for countvectorizer\n",
        "              \"count_vect__stop_words\": ['english'],\n",
        "              \"count_vect__ngram_range\": [(1,1),(1,2),(2,2)],\n",
        "              \"count_vect__max_df\": [i for i in np.arange(0.4,0.6,0.05)],\n",
        "              \"count_vect__min_df\": [i for i in np.arange(2,25,5)],\n",
        "              # for tfidfTransformer\n",
        "              \"tfidf_trans__norm\": ['l1', 'l2', None],\n",
        "              \"tfidf_trans__use_idf\": [True, False],\n",
        "              # for clf3\n",
        "              \"clf3__alpha\": [0.0,0.2,0.4,0.6,0.8,1.0],\n",
        "              \"clf3__fit_prior\": [True, False]\n",
        "             }"
      ],
      "execution_count": 0,
      "outputs": []
    },
    {
      "cell_type": "markdown",
      "metadata": {
        "id": "hrxeiZVE2JYS",
        "colab_type": "text"
      },
      "source": [
        "## Checking the best hyperparameters for Random_Forest_Classifier\n",
        " "
      ]
    },
    {
      "cell_type": "code",
      "metadata": {
        "id": "jNm1HCsfZUXh",
        "colab_type": "code",
        "outputId": "5850a2b6-78d2-45e3-830a-301501571615",
        "colab": {
          "base_uri": "https://localhost:8080/",
          "height": 120
        }
      },
      "source": [
        "grid1 = GridSearchCV(estimator = model1, param_grid = parameter1,  scoring = 'accuracy', n_jobs = -1, cv = 5)\n",
        "grid1 = grid1.fit(X_, Y)\n",
        "print(\"_Random_Forest_Classifier_\")\n",
        "print(grid1.best_score_)\n",
        "print(grid1.best_params_)"
      ],
      "execution_count": 0,
      "outputs": [
        {
          "output_type": "stream",
          "text": [
            "/usr/local/lib/python3.6/dist-packages/sklearn/model_selection/_search.py:814: DeprecationWarning: The default of the `iid` parameter will change from True to False in version 0.22 and will be removed in 0.24. This will change numeric results when test-set sizes are unequal.\n",
            "  DeprecationWarning)\n"
          ],
          "name": "stderr"
        },
        {
          "output_type": "stream",
          "text": [
            "_Random_Forest_Classifier_\n",
            "0.9411764705882353\n",
            "{'clf1__criterion': 'entropy', 'clf1__max_depth': None, 'clf1__n_estimators': 100, 'clf1__n_jobs': None, 'count_vect__max_df': 0.55, 'count_vect__min_df': 2, 'count_vect__ngram_range': (1, 1), 'count_vect__stop_words': 'english', 'tfidf_trans__norm': 'l1', 'tfidf_trans__use_idf': True}\n"
          ],
          "name": "stdout"
        }
      ]
    },
    {
      "cell_type": "markdown",
      "metadata": {
        "id": "QPcZN-S92Z5x",
        "colab_type": "text"
      },
      "source": [
        "## Checking the best hyperparameters for K_Neighbors_Classifier"
      ]
    },
    {
      "cell_type": "code",
      "metadata": {
        "id": "kD3enY-dZnjG",
        "colab_type": "code",
        "outputId": "e1bf8e03-dced-4a4f-e8ea-bad6fc618128",
        "colab": {
          "base_uri": "https://localhost:8080/",
          "height": 120
        }
      },
      "source": [
        "grid2 = GridSearchCV(estimator = model2, param_grid = parameter2,  scoring = 'accuracy', n_jobs = -1, cv = 5)\n",
        "grid2 = grid2.fit(X_, Y)\n",
        "print(\"_K_Neighbors_Classifier_\")\n",
        "print(grid2.best_score_)\n",
        "print(grid2.best_params_)"
      ],
      "execution_count": 0,
      "outputs": [
        {
          "output_type": "stream",
          "text": [
            "_K_Neighbors_Classifier_\n",
            "0.93048128342246\n",
            "{'clf2__n_neighbors': 3, 'count_vect__max_df': 0.45, 'count_vect__min_df': 2, 'count_vect__ngram_range': (1, 1), 'count_vect__stop_words': 'english', 'tfidf_trans__norm': 'l2', 'tfidf_trans__use_idf': False}\n"
          ],
          "name": "stdout"
        },
        {
          "output_type": "stream",
          "text": [
            "/usr/local/lib/python3.6/dist-packages/sklearn/model_selection/_search.py:814: DeprecationWarning: The default of the `iid` parameter will change from True to False in version 0.22 and will be removed in 0.24. This will change numeric results when test-set sizes are unequal.\n",
            "  DeprecationWarning)\n"
          ],
          "name": "stderr"
        }
      ]
    },
    {
      "cell_type": "markdown",
      "metadata": {
        "id": "_LEzLruU2hOa",
        "colab_type": "text"
      },
      "source": [
        "## Checking the best hyperparameters for MultinomialNB"
      ]
    },
    {
      "cell_type": "code",
      "metadata": {
        "id": "kC14jS6TcNDO",
        "colab_type": "code",
        "outputId": "fae5ed4b-ccfc-4885-9418-b415517ea8f2",
        "colab": {
          "base_uri": "https://localhost:8080/",
          "height": 153
        }
      },
      "source": [
        "grid3 = GridSearchCV(estimator = model3, param_grid = parameter3,  scoring = 'accuracy', n_jobs = -1, cv = 5)\n",
        "grid3 = grid3.fit(X_, Y)\n",
        "print(\"_MultinomialNB_\")\n",
        "print(grid3.best_score_)\n",
        "print(grid3.best_params_)"
      ],
      "execution_count": 0,
      "outputs": [
        {
          "output_type": "stream",
          "text": [
            "/usr/local/lib/python3.6/dist-packages/sklearn/model_selection/_search.py:814: DeprecationWarning: The default of the `iid` parameter will change from True to False in version 0.22 and will be removed in 0.24. This will change numeric results when test-set sizes are unequal.\n",
            "  DeprecationWarning)\n",
            "/usr/local/lib/python3.6/dist-packages/sklearn/naive_bayes.py:485: UserWarning: alpha too small will result in numeric errors, setting alpha = 1.0e-10\n",
            "  'setting alpha = %.1e' % _ALPHA_MIN)\n"
          ],
          "name": "stderr"
        },
        {
          "output_type": "stream",
          "text": [
            "_MultinomialNB_\n",
            "0.93048128342246\n",
            "{'clf3__alpha': 0.0, 'clf3__fit_prior': True, 'count_vect__max_df': 0.4, 'count_vect__min_df': 2, 'count_vect__ngram_range': (1, 2), 'count_vect__stop_words': 'english', 'tfidf_trans__norm': 'l1', 'tfidf_trans__use_idf': False}\n"
          ],
          "name": "stdout"
        }
      ]
    },
    {
      "cell_type": "markdown",
      "metadata": {
        "id": "a_OpWWrx2qox",
        "colab_type": "text"
      },
      "source": [
        "#Preparing the final pipeline using the selected hyperparameters"
      ]
    },
    {
      "cell_type": "code",
      "metadata": {
        "id": "hDUPn44NWOj5",
        "colab_type": "code",
        "colab": {}
      },
      "source": [
        "model = Pipeline([('count_vect', CountVectorizer(tokenizer = tokenizer.tokenize, stop_words='english', min_df=2, max_df=0.55, ngram_range=(1,1))),\n",
        "                 ('tfidf_trans', TfidfTransformer(norm='l1', use_idf=True)),\n",
        "                 ('clf', RandomForestClassifier(n_estimators=100, criterion='entropy', max_depth=None, n_jobs=None))])"
      ],
      "execution_count": 0,
      "outputs": []
    },
    {
      "cell_type": "code",
      "metadata": {
        "id": "L7I-gPvJkYO3",
        "colab_type": "code",
        "outputId": "856c4800-da56-4932-dab2-c48d4af202b4",
        "colab": {
          "base_uri": "https://localhost:8080/",
          "height": 400
        }
      },
      "source": [
        "model.fit(X_train, Y_train)"
      ],
      "execution_count": 21,
      "outputs": [
        {
          "output_type": "execute_result",
          "data": {
            "text/plain": [
              "Pipeline(memory=None,\n",
              "         steps=[('count_vect',\n",
              "                 CountVectorizer(analyzer='word', binary=False,\n",
              "                                 decode_error='strict',\n",
              "                                 dtype=<class 'numpy.int64'>, encoding='utf-8',\n",
              "                                 input='content', lowercase=True, max_df=0.55,\n",
              "                                 max_features=None, min_df=2,\n",
              "                                 ngram_range=(1, 1), preprocessor=None,\n",
              "                                 stop_words='english', strip_accents=None,\n",
              "                                 token_pattern='(?u)\\\\b\\\\w\\\\w+\\\\b',\n",
              "                                 tokenizer=<bound m...\n",
              "                 RandomForestClassifier(bootstrap=True, class_weight=None,\n",
              "                                        criterion='entropy', max_depth=None,\n",
              "                                        max_features='auto',\n",
              "                                        max_leaf_nodes=None,\n",
              "                                        min_impurity_decrease=0.0,\n",
              "                                        min_impurity_split=None,\n",
              "                                        min_samples_leaf=1, min_samples_split=2,\n",
              "                                        min_weight_fraction_leaf=0.0,\n",
              "                                        n_estimators=100, n_jobs=None,\n",
              "                                        oob_score=False, random_state=None,\n",
              "                                        verbose=0, warm_start=False))],\n",
              "         verbose=False)"
            ]
          },
          "metadata": {
            "tags": []
          },
          "execution_count": 21
        }
      ]
    },
    {
      "cell_type": "code",
      "metadata": {
        "id": "C3jZ5y0QldKE",
        "colab_type": "code",
        "colab": {}
      },
      "source": [
        "pred = model.predict(X_test)"
      ],
      "execution_count": 0,
      "outputs": []
    },
    {
      "cell_type": "code",
      "metadata": {
        "id": "WOR25SENl7ag",
        "colab_type": "code",
        "outputId": "93f0cf88-0c26-44d2-8c57-a50d0fc3cad2",
        "colab": {
          "base_uri": "https://localhost:8080/",
          "height": 266
        }
      },
      "source": [
        "pred"
      ],
      "execution_count": 23,
      "outputs": [
        {
          "output_type": "execute_result",
          "data": {
            "text/plain": [
              "array(['Invoice', 'ChallanDep', 'ChallanDep', 'Epfslip', 'Checklist',\n",
              "       'Checklist', 'Email', 'Invoice', 'Junk', 'DutySlip', 'Invoice',\n",
              "       'Purchase', 'ChallanDep', 'Transdetails', 'Invoice', 'Checklist',\n",
              "       'Checklist', 'Email', 'Junk', 'Invoice', 'ChallanDep', 'Junk',\n",
              "       'Email', 'Transdetails', 'Checklist', 'Checklist', 'Checklist',\n",
              "       'Junk', 'Invoice', 'Transdetails', 'ChallanDep', 'Checklist',\n",
              "       'SGB', 'Junk', 'Invoice', 'Epfslip', 'ChallanDep', 'SGB',\n",
              "       'Invoice', 'Checklist', 'Invoice', 'ChallanDep', 'Junk',\n",
              "       'Transdetails', 'Invoice', 'DutySlip', 'DutySlip', 'ChallanDep',\n",
              "       'ChallanDep', 'ChallanDep', 'Invoice', 'ChallanDep', 'Invoice',\n",
              "       'Junk', 'Invoice', 'Invoice', 'Transdetails', 'SGB', 'Invoice',\n",
              "       'Email', 'Invoice', 'Checklist', 'Invoice', 'Purchase',\n",
              "       'Transdetails', 'Email', 'Email', 'Purchase', 'Invoice',\n",
              "       'Purchase', 'Checklist', 'Junk', 'Invoice', 'Invoice',\n",
              "       'Transdetails'], dtype=object)"
            ]
          },
          "metadata": {
            "tags": []
          },
          "execution_count": 23
        }
      ]
    },
    {
      "cell_type": "markdown",
      "metadata": {
        "id": "TJMaHh1K24aQ",
        "colab_type": "text"
      },
      "source": [
        "#Creating Confusion matrix and checking the accuracy of the model"
      ]
    },
    {
      "cell_type": "code",
      "metadata": {
        "id": "W5C5IXQ7l8WZ",
        "colab_type": "code",
        "outputId": "9eba2f5d-a889-4bbe-a993-60e14ee1bc6d",
        "colab": {
          "base_uri": "https://localhost:8080/",
          "height": 183
        }
      },
      "source": [
        "from sklearn.metrics import confusion_matrix, accuracy_score\n",
        "confusion_matrix(Y_test, pred)"
      ],
      "execution_count": 24,
      "outputs": [
        {
          "output_type": "execute_result",
          "data": {
            "text/plain": [
              "array([[10,  0,  0,  0,  0,  0,  0,  0,  0,  0],\n",
              "       [ 0, 11,  0,  0,  0,  0,  0,  0,  0,  0],\n",
              "       [ 0,  0,  3,  0,  0,  0,  0,  0,  0,  0],\n",
              "       [ 0,  0,  0,  6,  0,  0,  0,  0,  0,  0],\n",
              "       [ 0,  0,  0,  0,  2,  0,  0,  0,  0,  0],\n",
              "       [ 0,  0,  0,  0,  0, 18,  0,  0,  0,  0],\n",
              "       [ 0,  0,  0,  0,  0,  0,  8,  0,  0,  0],\n",
              "       [ 0,  0,  0,  0,  0,  0,  0,  4,  0,  0],\n",
              "       [ 0,  0,  0,  0,  0,  1,  0,  0,  3,  0],\n",
              "       [ 1,  0,  0,  0,  0,  1,  0,  0,  0,  7]])"
            ]
          },
          "metadata": {
            "tags": []
          },
          "execution_count": 24
        }
      ]
    },
    {
      "cell_type": "code",
      "metadata": {
        "id": "y2bLa0b-mSLF",
        "colab_type": "code",
        "colab": {}
      },
      "source": [
        "accuracy = accuracy_score(Y_test, pred)"
      ],
      "execution_count": 0,
      "outputs": []
    },
    {
      "cell_type": "code",
      "metadata": {
        "id": "wEMKhcPjnldQ",
        "colab_type": "code",
        "outputId": "850db3e6-090d-413a-8fa9-ce32ea40de42",
        "colab": {
          "base_uri": "https://localhost:8080/",
          "height": 33
        }
      },
      "source": [
        "print(accuracy)"
      ],
      "execution_count": 26,
      "outputs": [
        {
          "output_type": "stream",
          "text": [
            "0.96\n"
          ],
          "name": "stdout"
        }
      ]
    },
    {
      "cell_type": "code",
      "metadata": {
        "id": "EURErZynnnn4",
        "colab_type": "code",
        "outputId": "63eacd95-2c5e-4112-970e-e97627218634",
        "colab": {
          "base_uri": "https://localhost:8080/",
          "height": 50
        }
      },
      "source": [
        "text = input()\n",
        "model.predict([text])"
      ],
      "execution_count": 27,
      "outputs": [
        {
          "output_type": "stream",
          "text": [
            "From: To: <abhisheksahore7@gmail.com> cc: Subject: To check if it's working <15/12/2019> I guess it is regards Abhishek Sahore\n"
          ],
          "name": "stdout"
        },
        {
          "output_type": "execute_result",
          "data": {
            "text/plain": [
              "array(['Email'], dtype=object)"
            ]
          },
          "metadata": {
            "tags": []
          },
          "execution_count": 27
        }
      ]
    },
    {
      "cell_type": "code",
      "metadata": {
        "id": "Afq6JoeNoNRk",
        "colab_type": "code",
        "colab": {}
      },
      "source": [
        ""
      ],
      "execution_count": 0,
      "outputs": []
    }
  ]
}